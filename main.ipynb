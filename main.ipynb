{
 "cells": [
  {
   "cell_type": "code",
   "execution_count": 1,
   "metadata": {},
   "outputs": [],
   "source": [
    "import os\n",
    "import torch\n",
    "from sklearn.decomposition import PCA\n",
    "import numpy as np\n",
    "import xml.etree.ElementTree as ET\n",
    "import pandas\n",
    "import math\n",
    "import copy"
   ]
  },
  {
   "cell_type": "code",
   "execution_count": 2,
   "metadata": {},
   "outputs": [],
   "source": [
    "input_folder = \"embeddings/\"\n",
    "flame_folder = \"base_flames/\"\n",
    "flame = \"the_last_before_the_winter_escherymack.flame\""
   ]
  },
  {
   "cell_type": "code",
   "execution_count": 3,
   "metadata": {},
   "outputs": [],
   "source": [
    "def get_embedding_filename(i, mode=\"tgt\"):\n",
    "    return os.path.join(input_folder, f\"{i}.pt-{mode}_embeddings.txt\")\n",
    "\n",
    "def get_embedding_matrix(i, mode=\"tgt\"):\n",
    "    text = open(get_embedding_filename(i, mode=mode))\n",
    "    lines = text.readlines()\n",
    "    current_matrix = np.zeros((345, 64))\n",
    "    for j, line in enumerate(lines):\n",
    "        values = np.array([float(value) for value in line.split(\" \")[1:]])\n",
    "        current_matrix[j] = values\n",
    "    return current_matrix\n",
    "\n",
    "def RGB_format(colour_tuple):\n",
    "    return ('%02x%02x%02x' % colour_tuple).upper()\n",
    "\n",
    "def RGB_palette(number):\n",
    "    df = pandas.read_csv(f\"../palettes/Craig2/data/palette_{number}.csv\", header=None)\n",
    "    palette = [RGB_format(tuple(int(i) for i in j)) for j in df.values]\n",
    "    final_string = \"\"\n",
    "    for i, colour in enumerate(palette):\n",
    "        final_string += colour\n",
    "        if i % 32 == 31:\n",
    "            final_string += '\\n'\n",
    "    return final_string\n",
    "\n",
    "def access_coeffs(coeff_string):\n",
    "    coeffs = [float(coeff) for coeff in coeff_string.split(\" \")]\n",
    "    return coeffs\n",
    "\n",
    "def to_coeff_string(coeff_list):\n",
    "    return \" \".join([str(coeff) for coeff in coeff_list])"
   ]
  },
  {
   "cell_type": "code",
   "execution_count": 4,
   "metadata": {},
   "outputs": [
    {
     "data": {
      "text/plain": [
       "'embeddings/2.pt-tgt_embeddings.txt'"
      ]
     },
     "execution_count": 4,
     "metadata": {},
     "output_type": "execute_result"
    }
   ],
   "source": [
    "get_embedding_filename(2)"
   ]
  },
  {
   "cell_type": "code",
   "execution_count": 5,
   "metadata": {},
   "outputs": [],
   "source": [
    "def get_embeddings_updates(mode=\"tgt\"):\n",
    "    old_matrix = None\n",
    "    updates = np.zeros((29, 345, 64))\n",
    "    for i in range(1, 30):\n",
    "        current_matrix = get_embedding_matrix(i, mode=mode)\n",
    "        if old_matrix is not None:\n",
    "            updates[i - 2] = current_matrix - old_matrix\n",
    "        old_matrix = current_matrix\n",
    "    return updates"
   ]
  },
  {
   "cell_type": "code",
   "execution_count": 6,
   "metadata": {},
   "outputs": [],
   "source": [
    "def build_pca(x, n, mode=\"tgt\"):\n",
    "    x = x - x.mean(axis=0)\n",
    "    pca = PCA(n, whiten=False)\n",
    "    pca.fit(x)\n",
    "    return pca"
   ]
  },
  {
   "cell_type": "code",
   "execution_count": 7,
   "metadata": {},
   "outputs": [],
   "source": [
    "def get_fractal_updates(n, mode=\"tgt\", shuffle=True):\n",
    "    epochs = get_embeddings_updates()\n",
    "    reducted = np.zeros((29, 345, n))\n",
    "    pca = build_pca(epochs[0], n, mode=mode)\n",
    "    for i, epoch in enumerate(epochs):\n",
    "        transformed = pca.transform(epoch)\n",
    "        reducted[i] = transformed\n",
    "    #     print(np.absolute(transformed).sum(axis=0))\n",
    "    if shuffle:\n",
    "        reducted = np.transpose(reducted)\n",
    "        np.random.shuffle(reducted)\n",
    "        reducted = np.transpose(reducted)\n",
    "    return reducted"
   ]
  },
  {
   "cell_type": "code",
   "execution_count": 8,
   "metadata": {},
   "outputs": [],
   "source": [
    "fractal_updates = get_fractal_updates(32)"
   ]
  },
  {
   "cell_type": "code",
   "execution_count": 9,
   "metadata": {},
   "outputs": [
    {
     "name": "stdout",
     "output_type": "stream",
     "text": [
      "[ -9.53280728  10.0664203  -16.32617743  -0.08721437 -25.75189574\n",
      " -25.75780754 -10.82812272   2.64352717 -12.71601173  -6.872663\n",
      "  -1.8894922  -18.10184897  11.43724851  -3.04875844 -16.86999654\n",
      "  -3.83240829  -3.34930837  -7.51700187   2.84788887   1.54037245\n",
      "  -0.8202627   11.17497403  -0.73354152  46.13656515   2.38837873\n",
      "   4.60921123  -8.87686071  -2.87351733  -0.64102047  -0.28418109\n",
      "  50.69269504   4.13318777]\n",
      "[228.07482477 192.71174244 208.30061028 136.45549857 176.86740959\n",
      " 194.95569712 216.15426581 209.2403849  187.82350265 109.82707221\n",
      " 120.47151454 222.59915859 156.47905671  97.27560588 179.55504774\n",
      "  97.28526619 154.23420658 231.75556816 144.72272422 119.64825842\n",
      " 120.28691703 209.65214019 111.17230983 181.9911775  122.75816702\n",
      " 110.81880978 117.51538129 126.81422496 220.52890493 101.25998989\n",
      " 221.83678855 130.14499165]\n"
     ]
    }
   ],
   "source": [
    "print(fractal_updates.sum(axis=0).sum(axis=0))\n",
    "print(np.absolute(fractal_updates).sum(axis=0).sum(axis=0))"
   ]
  },
  {
   "cell_type": "code",
   "execution_count": 10,
   "metadata": {},
   "outputs": [],
   "source": [
    "def xml_to_vector(file):\n",
    "    tree = ET.parse(file)\n",
    "    xforms = tree.findall(\"xform\")\n",
    "    n_xforms = len(xforms)\n",
    "    param_vector = np.zeros(8 * n_xforms)\n",
    "    for i, xform in enumerate(xforms):\n",
    "        param_vector[i*8] = xform.attrib['weight']\n",
    "        param_vector[i*8 + 1] = xform.attrib['opacity']\n",
    "        param_vector[i*8+2:(i+1)*8] = np.array(access_coeffs(xform.attrib[\"coefs\"]))\n",
    "    return param_vector"
   ]
  },
  {
   "cell_type": "code",
   "execution_count": 11,
   "metadata": {},
   "outputs": [
    {
     "data": {
      "text/plain": [
       "array([ 0.5     ,  1.      ,  1.      ,  0.      ,  0.      ,  1.      ,\n",
       "       -0.590569,  0.254755,  5.      ,  1.      , -1.119654, -1.068305,\n",
       "        0.854836, -1.019848, -0.115798, -0.758476,  0.1     ,  0.1     ,\n",
       "        1.      ,  0.      ,  0.      ,  1.      , -0.590569,  0.254755,\n",
       "        0.1     ,  0.1     ,  1.      ,  0.      ,  0.      ,  1.      ,\n",
       "       -0.590569,  0.254755])"
      ]
     },
     "execution_count": 11,
     "metadata": {},
     "output_type": "execute_result"
    }
   ],
   "source": [
    "xml_to_vector(os.path.join(flame_folder, flame))"
   ]
  },
  {
   "cell_type": "code",
   "execution_count": 12,
   "metadata": {},
   "outputs": [],
   "source": [
    "def vector_to_xml(tree, param_vector):\n",
    "    xforms = tree.findall(\"xform\")\n",
    "    n_xforms = len(xforms)\n",
    "    for i, xform in enumerate(xforms):\n",
    "        xform.attrib['weight'] = str(param_vector[i*8])\n",
    "        xform.attrib['opacity'] = str(param_vector[i*8 + 1])\n",
    "        xform.attrib[\"coefs\"] = to_coeff_string(param_vector[i*8+2:(i+1)*8])\n",
    "    return tree"
   ]
  },
  {
   "cell_type": "code",
   "execution_count": 13,
   "metadata": {},
   "outputs": [],
   "source": [
    "def main(folder, file, frame_number, palette_number=None):\n",
    "    \n",
    "    leading_zeroes = math.ceil(math.log10(frame_number))\n",
    "    \n",
    "    root = ET.Element(\"Flames\")\n",
    "    root.set('name', 'flamepack')\n",
    "    \n",
    "    file = os.path.join(folder, file)\n",
    "    tree = ET.parse(file)\n",
    "    if palette_number is not None:\n",
    "        tree.find(\"palette\").text = RGB_palette(palette_number)\n",
    "\n",
    "    \n",
    "    param_vector = xml_to_vector(file)\n",
    "    n = param_vector.shape[0]\n",
    "    \n",
    "    fractal_updates = get_fractal_updates(n)\n",
    "    fractal_updates = fractal_updates[:20, 2:, :]\n",
    "    fractal_updates = fractal_updates.reshape((-1, n))\n",
    "    block_size = fractal_updates.shape[0] // frame_number\n",
    "    fractal_updates = fractal_updates[:block_size*frame_number, :]\n",
    "    \n",
    "    normalization_vector = np.absolute(param_vector)\n",
    "    normalization_vector[normalization_vector == 0] = 1\n",
    "    fractal_total_weight = np.absolute(fractal_updates.sum(axis=0))\n",
    "    \n",
    "    fractal_updates = fractal_updates / fractal_total_weight * normalization_vector\n",
    "    fractal_updates = np.flip(fractal_updates, axis=0)\n",
    "\n",
    "    \n",
    "    for i in range(frame_number):\n",
    "        update = fractal_updates[i*block_size:(i+1)*block_size].sum(axis=0)\n",
    "        param_vector = param_vector + update\n",
    "        new_tree = copy.deepcopy(tree)\n",
    "        new_tree = vector_to_xml(new_tree, param_vector)\n",
    "        new_tree.getroot().attrib[\"name\"] = str(frame_number - i).zfill(leading_zeroes)\n",
    "        root.append(new_tree.getroot())\n",
    "        \n",
    "    final_tree = ET.ElementTree(root)\n",
    "    final_tree.write(os.path.join(folder, \"updates.flame\"))"
   ]
  },
  {
   "cell_type": "code",
   "execution_count": 14,
   "metadata": {},
   "outputs": [],
   "source": [
    "main(\"personal/crucible_highres\", \"crucible.flame\", 1800)"
   ]
  },
  {
   "cell_type": "code",
   "execution_count": 10,
   "metadata": {},
   "outputs": [],
   "source": [
    "def change_palette(file):\n",
    "    \n",
    "    root = ET.Element(\"Flames\")\n",
    "    root.set('name', 'flamepack')\n",
    "    \n",
    "    for palette_number in range(1, 31):    \n",
    "        tree = ET.parse(file)\n",
    "        tree.find(\"palette\").text = RGB_palette(palette_number)\n",
    "        root.append(tree.getroot())\n",
    "        \n",
    "    final_tree = ET.ElementTree(root)\n",
    "    final_tree.write(\"base_flames.flame\")"
   ]
  },
  {
   "cell_type": "code",
   "execution_count": 13,
   "metadata": {},
   "outputs": [],
   "source": [
    "root = ET.Element(\"Flames\")\n",
    "root.set('name', 'flamepack')\n",
    "\n",
    "tree = ET.parse(\"personal/hearts.flame\")\n",
    "tree.find(\"palette\").text = RGB_palette(29)\n",
    "root.append(tree.getroot())\n",
    "\n",
    "final_tree = ET.ElementTree(root)\n",
    "final_tree.write(\"hearts.flame\")"
   ]
  },
  {
   "cell_type": "code",
   "execution_count": null,
   "metadata": {},
   "outputs": [],
   "source": []
  }
 ],
 "metadata": {
  "kernelspec": {
   "display_name": "Python 3",
   "language": "python",
   "name": "python3"
  },
  "language_info": {
   "codemirror_mode": {
    "name": "ipython",
    "version": 3
   },
   "file_extension": ".py",
   "mimetype": "text/x-python",
   "name": "python",
   "nbconvert_exporter": "python",
   "pygments_lexer": "ipython3",
   "version": "3.7.0"
  }
 },
 "nbformat": 4,
 "nbformat_minor": 2
}
